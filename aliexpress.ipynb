{
 "cells": [
  {
   "cell_type": "code",
   "execution_count": 82,
   "id": "1c37d36e-4a1f-4c95-be0c-fe06cacf7e1a",
   "metadata": {},
   "outputs": [],
   "source": [
    "from selenium import webdriver as wd\n",
    "import chromedriver_binary\n",
    "import random\n",
    "import time"
   ]
  },
  {
   "cell_type": "code",
   "execution_count": 83,
   "id": "aba70a01-c98f-4ef8-804c-9ca93f63f4b8",
   "metadata": {},
   "outputs": [],
   "source": [
    "wd = wd.Chrome('D://chromedriver.exe')\n",
    "wd.implicitly_wait(10)\n"
   ]
  },
  {
   "cell_type": "code",
   "execution_count": 84,
   "id": "9d7ef8a7-070d-4632-ba47-e58db5e96d43",
   "metadata": {},
   "outputs": [],
   "source": [
    "wd.get('https://www.aliexpress.com/item/1005002752853837.html?spm=a2g0o.best.moretolove.4.23a12c25pcPSTu&gps-id=pcBestMore2Love&scm=1007.40000.267768.0&scm_id=1007.40000.267768.0&scm-url=1007.40000.267768.0&pvid=0d296b02-f06f-44ca-8fbe-e73cf172f73d&_t=gps-id:pcBestMore2Love,scm-url:1007.40000.267768.0,pvid:0d296b02-f06f-44ca-8fbe-e73cf172f73d,tpp_buckets:668%232846%238112%23559&pdp_ext_f=%257B%2522sku_id%2522%253A%252212000021969540414%2522%252C%2522sceneId%2522%253A%25227258%2522%257D&pdp_pi=-1%253B36.35%253B-1%253B-1%2540salePrice%253BUSD%253Brecommend-recommend')"
   ]
  },
  {
   "cell_type": "code",
   "execution_count": 85,
   "id": "dd83b5ea-57dd-4bd5-880c-a7abab0235aa",
   "metadata": {},
   "outputs": [],
   "source": [
    "select_model=wd.find_element_by_xpath('//*[@id=\"root\"]/div/div[2]/div/div[2]/div[7]/div/div/ul/li[1]/div/img')"
   ]
  },
  {
   "cell_type": "code",
   "execution_count": null,
   "id": "95c61b95-aa1f-4bed-ad7d-ddc3c00fbaff",
   "metadata": {},
   "outputs": [],
   "source": []
  },
  {
   "cell_type": "code",
   "execution_count": 86,
   "id": "600fb8e5-13d6-4aa6-bc2a-ceea762863ac",
   "metadata": {},
   "outputs": [],
   "source": [
    "select_model.click()"
   ]
  },
  {
   "cell_type": "code",
   "execution_count": 87,
   "id": "37ed3724-7356-4b70-afcb-82ffeb04950e",
   "metadata": {},
   "outputs": [],
   "source": [
    "buy_model=wd.find_element_by_xpath('/html/body/div[5]/div/div[2]/div/div[2]/div[11]/span[1]/button')"
   ]
  },
  {
   "cell_type": "code",
   "execution_count": null,
   "id": "03981fe5-aac4-449c-98f0-117e171c8744",
   "metadata": {},
   "outputs": [],
   "source": []
  },
  {
   "cell_type": "code",
   "execution_count": 88,
   "id": "072f7626-2058-464c-ac5c-edcb04832a10",
   "metadata": {},
   "outputs": [],
   "source": [
    "buy_model.click()"
   ]
  },
  {
   "cell_type": "code",
   "execution_count": 89,
   "id": "f7f50727-f6e1-4dad-befb-c6bf947a840a",
   "metadata": {},
   "outputs": [],
   "source": [
    "login=wd.find_element_by_xpath('//*[@id=\"batman-dialog-wrap\"]/div/div/div[1]/div[1]/div/div[2]')\n",
    "login.click()"
   ]
  }
 ],
 "metadata": {
  "kernelspec": {
   "display_name": "Python 3 (ipykernel)",
   "language": "python",
   "name": "python3"
  },
  "language_info": {
   "codemirror_mode": {
    "name": "ipython",
    "version": 3
   },
   "file_extension": ".py",
   "mimetype": "text/x-python",
   "name": "python",
   "nbconvert_exporter": "python",
   "pygments_lexer": "ipython3",
   "version": "3.8.13"
  }
 },
 "nbformat": 4,
 "nbformat_minor": 5
}
